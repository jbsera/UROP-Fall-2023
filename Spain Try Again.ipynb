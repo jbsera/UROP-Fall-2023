{
 "cells": [
  {
   "cell_type": "code",
   "execution_count": 19,
   "metadata": {},
   "outputs": [],
   "source": [
    "#IMPORTS\n",
    "import pandas as pd\n",
    "import numpy as np"
   ]
  },
  {
   "cell_type": "code",
   "execution_count": 20,
   "metadata": {},
   "outputs": [],
   "source": [
    "merged_spain_MTUS_copy_2=pd.read_stata(\"C:\\\\Users\\\\joyse\\\\Desktop\\\\UROP\\\\Fall 2023\\\\MTUS\\\\MTUS_Spain_STEP2.dta\")"
   ]
  },
  {
   "cell_type": "code",
   "execution_count": 21,
   "metadata": {},
   "outputs": [],
   "source": [
    "merged_spain_MTUS_copy_2.sort_values(by=['ident', 'rectype_str', 'clockst_base10'], ascending=[True, False, True], inplace=True)"
   ]
  },
  {
   "cell_type": "code",
   "execution_count": null,
   "metadata": {},
   "outputs": [],
   "source": [
    "#Formatting again so that time use variables only appear once in the Person row of the df\n",
    "merged_spain_MTUS_copy_2.sort_values(by=['ident', 'rectype_str', 'clockst_base10'], ascending=[True, False, True], inplace=True)\n",
    "merged_spain_MTUS_copy_2.reset_index(drop=True, inplace=True)  # Reset the index\n",
    "start_work = {}\n",
    "start_work_h={}\n",
    "start_commute={}\n",
    "work_at_h={}\n",
    "work_not_h={}\n",
    "\n",
    "\n",
    "# Iterate through the rows\n",
    "for index, row in merged_spain_MTUS_copy_2.iterrows():\n",
    "    current_person = row['ident']\n",
    "    start_work_time=row['start_work_time']\n",
    "    start_work_time_home=row['start_work_time_home'] \n",
    "    start_commute_time=row['start_commute_time'] \n",
    "    work_at_home=row['work_at_home']    \n",
    "    work_not_home=row['works_not_home']\n",
    "    \n",
    "    \n",
    "    if start_work_time!='None':\n",
    "        start_work[current_person]=start_work_time\n",
    "        \n",
    "    if start_work_time_home!='None':\n",
    "        start_work_h[current_person]=start_work_time_home\n",
    "        \n",
    "    if start_commute_time!='None':\n",
    "        start_commute[current_person]=start_commute_time\n",
    "        \n",
    "    if work_at_home!=0:\n",
    "        work_at_h[current_person]=work_at_home\n",
    "\n",
    "    if work_not_home!=0:\n",
    "        work_not_h[current_person]=work_not_home\n",
    "\n",
    "    \n",
    "\n",
    "start_w = pd.DataFrame({\n",
    "    'ident': list(start_work.keys()),\n",
    "    'start_work_time1': list(start_work.values()),\n",
    "})\n",
    "\n",
    "start_wh = pd.DataFrame({\n",
    "    'ident': list(start_work_h.keys()),\n",
    "    'start_work_time_home1': list(start_work_h.values()),\n",
    "})\n",
    "\n",
    "start_com = pd.DataFrame({\n",
    "    'ident': list(start_commute.keys()),\n",
    "    'start_commute_time1': list(start_commute.values()),\n",
    "})\n",
    "\n",
    "work_ah = pd.DataFrame({\n",
    "    'ident': list(work_at_h.keys()),\n",
    "    'work_at_home1': list(work_at_h.values()),\n",
    "})\n",
    "\n",
    "work_noth = pd.DataFrame({\n",
    "    'ident': list(work_not_h.keys()),\n",
    "    'work_not_home1': list(work_not_h.values()),\n",
    "})\n",
    "\n"
   ]
  },
  {
   "cell_type": "code",
   "execution_count": null,
   "metadata": {},
   "outputs": [],
   "source": [
    "#Merge for formating so that the time use variables appear in every row of that Person\n",
    "merged_spain_MTUS_copy_2 = merged_spain_MTUS_copy_2.merge(start_w, left_on=['ident'], right_on=['ident'], how='left')\n",
    "merged_spain_MTUS_copy_2 = merged_spain_MTUS_copy_2.merge(start_wh, left_on=['ident'], right_on=['ident'], how='left')\n",
    "merged_spain_MTUS_copy_2 = merged_spain_MTUS_copy_2.merge(start_com, left_on=['ident'], right_on=['ident'], how='left')\n",
    "merged_spain_MTUS_copy_2 = merged_spain_MTUS_copy_2.merge(work_ah, left_on=['ident'], right_on=['ident'], how='left')\n",
    "merged_spain_MTUS_copy_2 = merged_spain_MTUS_copy_2.merge(work_noth, left_on=['ident'], right_on=['ident'], how='left')"
   ]
  },
  {
   "cell_type": "code",
   "execution_count": null,
   "metadata": {},
   "outputs": [],
   "source": [
    "#Format so that the time use variables only appear once in the Person row, not in the subsequent Diary rows\n",
    "merged_spain_MTUS_copy_2['start_work_time1'] = merged_spain_MTUS_copy_2.apply(\n",
    "    lambda row: row['start_work_time1'] if row['rectype_str'] == 'Person' else None,\n",
    "    axis=1\n",
    ")\n",
    "\n",
    "merged_spain_MTUS_copy_2['start_work_time_home1'] = merged_spain_MTUS_copy_2.apply(\n",
    "    lambda row: row['start_work_time_home1'] if row['rectype_str'] == 'Person' else None,\n",
    "    axis=1\n",
    ")\n",
    "\n",
    "merged_spain_MTUS_copy_2['start_commute_time1'] = merged_spain_MTUS_copy_2.apply(\n",
    "    lambda row: row['start_commute_time1'] if row['rectype_str'] == 'Person' else None,\n",
    "    axis=1\n",
    ")\n",
    "\n",
    "merged_spain_MTUS_copy_2['work_at_home1'] = merged_spain_MTUS_copy_2.apply(\n",
    "    lambda row: row['work_at_home1'] if row['rectype_str'] == 'Person' else None,\n",
    "    axis=1\n",
    ")\n",
    "\n",
    "merged_spain_MTUS_copy_2['work_not_home1'] = merged_spain_MTUS_copy_2.apply(\n",
    "    lambda row: row['work_not_home1'] if row['rectype_str'] == 'Person' else None,\n",
    "    axis=1\n",
    ")"
   ]
  },
  {
   "cell_type": "code",
   "execution_count": null,
   "metadata": {},
   "outputs": [],
   "source": [
    "merged_spain_MTUS_copy_2 = merged_spain_MTUS_copy_2.rename(columns={'work_at_home1': 'work_at_home', 'work_not_home1': 'works_not_home', 'start_commute_time1': 'start_commute_time', 'start_work_time_home1': 'start_work_time_home', 'start_work_time1': 'start_work_time'})"
   ]
  },
  {
   "cell_type": "code",
   "execution_count": 9,
   "metadata": {},
   "outputs": [],
   "source": [
    "# Replace 'None' with NaN in the columns\n",
    "merged_spain_MTUS_copy_2['start_commute_time'] = merged_spain_MTUS_copy_2['start_commute_time'].replace('None', np.nan)\n",
    "merged_spain_MTUS_copy_2['start_work_time_home'] = merged_spain_MTUS_copy_2['start_work_time_home'].replace('None', np.nan)\n",
    "merged_spain_MTUS_copy_2['start_work_time'] = merged_spain_MTUS_copy_2['start_work_time'].replace('None', np.nan)\n",
    "merged_spain_MTUS_copy_2['total_break_time_peak'] = merged_spain_MTUS_copy_2['total_break_time_peak'].replace('None', np.nan)\n",
    "merged_spain_MTUS_copy_2['total_break_time_offpeak'] = merged_spain_MTUS_copy_2['total_break_time_offpeak'].replace('None', np.nan)\n",
    "\n",
    "# Now convert the columns to float\n",
    "merged_spain_MTUS_copy_2['start_commute_time'] = merged_spain_MTUS_copy_2['start_commute_time'].astype(float)\n",
    "merged_spain_MTUS_copy_2['start_work_time_home'] = merged_spain_MTUS_copy_2['start_work_time_home'].astype(float)\n",
    "merged_spain_MTUS_copy_2['start_work_time'] = merged_spain_MTUS_copy_2['start_work_time'].astype(float)\n",
    "merged_spain_MTUS_copy_2['total_break_time_peak'] = merged_spain_MTUS_copy_2['total_break_time_peak'].astype(float)\n",
    "merged_spain_MTUS_copy_2['total_break_time_offpeak'] = merged_spain_MTUS_copy_2['total_break_time_offpeak'].astype(float)\n",
    "\n",
    "\n",
    "\n",
    "\n",
    "\n",
    "# merged_spain_MTUS_copy_2['start_commute_time'] = merged_spain_MTUS_copy_2['start_commute_time'].astype(float)\n",
    "# merged_spain_MTUS_copy_2['start_work_time_home'] = merged_spain_MTUS_copy_2['start_work_time_home'].astype(float)\n",
    "# merged_spain_MTUS_copy_2['start_work_time'] = merged_spain_MTUS_copy_2['start_work_time'].astype(float)\n",
    "# merged_spain_MTUS_copy_2['total_break_time_peak'] = merged_spain_MTUS_copy_2['total_break_time_peak'].astype(float)\n",
    "# merged_spain_MTUS_copy_2['total_break_time_offpeak'] = merged_spain_MTUS_copy_2['total_break_time_offpeak'].astype(float)"
   ]
  },
  {
   "cell_type": "code",
   "execution_count": 18,
   "metadata": {},
   "outputs": [
    {
     "ename": "AttributeError",
     "evalue": "'DataFrame' object has no attribute 'dtype'",
     "output_type": "error",
     "traceback": [
      "\u001b[1;31m---------------------------------------------------------------------------\u001b[0m",
      "\u001b[1;31mAttributeError\u001b[0m                            Traceback (most recent call last)",
      "\u001b[1;32m<ipython-input-18-f8ed9b922577>\u001b[0m in \u001b[0;36m<module>\u001b[1;34m\u001b[0m\n\u001b[1;32m----> 1\u001b[1;33m \u001b[0mmerged_spain_MTUS_copy_2\u001b[0m\u001b[1;33m.\u001b[0m\u001b[0mto_stata\u001b[0m\u001b[1;33m(\u001b[0m\u001b[1;34m\"C:\\\\Users\\\\joyse\\\\Desktop\\\\UROP\\\\Fall 2023\\\\MTUS\\\\MTUS_Spain_STEP3.dta\"\u001b[0m\u001b[1;33m)\u001b[0m\u001b[1;33m\u001b[0m\u001b[1;33m\u001b[0m\u001b[0m\n\u001b[0m",
      "\u001b[1;32m~\\anaconda3\\lib\\site-packages\\pandas\\core\\frame.py\u001b[0m in \u001b[0;36mto_stata\u001b[1;34m(self, path, convert_dates, write_index, byteorder, time_stamp, data_label, variable_labels, version, convert_strl, compression, storage_options, value_labels)\u001b[0m\n\u001b[0;32m   2670\u001b[0m             \u001b[0mkwargs\u001b[0m\u001b[1;33m[\u001b[0m\u001b[1;34m\"version\"\u001b[0m\u001b[1;33m]\u001b[0m \u001b[1;33m=\u001b[0m \u001b[0mversion\u001b[0m\u001b[1;33m\u001b[0m\u001b[1;33m\u001b[0m\u001b[0m\n\u001b[0;32m   2671\u001b[0m \u001b[1;33m\u001b[0m\u001b[0m\n\u001b[1;32m-> 2672\u001b[1;33m         writer = statawriter(\n\u001b[0m\u001b[0;32m   2673\u001b[0m             \u001b[0mpath\u001b[0m\u001b[1;33m,\u001b[0m\u001b[1;33m\u001b[0m\u001b[1;33m\u001b[0m\u001b[0m\n\u001b[0;32m   2674\u001b[0m             \u001b[0mself\u001b[0m\u001b[1;33m,\u001b[0m\u001b[1;33m\u001b[0m\u001b[1;33m\u001b[0m\u001b[0m\n",
      "\u001b[1;32m~\\anaconda3\\lib\\site-packages\\pandas\\io\\stata.py\u001b[0m in \u001b[0;36m__init__\u001b[1;34m(self, fname, data, convert_dates, write_index, byteorder, time_stamp, data_label, variable_labels, compression, storage_options, value_labels)\u001b[0m\n\u001b[0;32m   2348\u001b[0m         \u001b[0mself\u001b[0m\u001b[1;33m.\u001b[0m\u001b[0m_converted_names\u001b[0m\u001b[1;33m:\u001b[0m \u001b[0mdict\u001b[0m\u001b[1;33m[\u001b[0m\u001b[0mHashable\u001b[0m\u001b[1;33m,\u001b[0m \u001b[0mstr\u001b[0m\u001b[1;33m]\u001b[0m \u001b[1;33m=\u001b[0m \u001b[1;33m{\u001b[0m\u001b[1;33m}\u001b[0m\u001b[1;33m\u001b[0m\u001b[1;33m\u001b[0m\u001b[0m\n\u001b[0;32m   2349\u001b[0m         \u001b[1;31m# attach nobs, nvars, data, varlist, typlist\u001b[0m\u001b[1;33m\u001b[0m\u001b[1;33m\u001b[0m\u001b[1;33m\u001b[0m\u001b[0m\n\u001b[1;32m-> 2350\u001b[1;33m         \u001b[0mself\u001b[0m\u001b[1;33m.\u001b[0m\u001b[0m_prepare_pandas\u001b[0m\u001b[1;33m(\u001b[0m\u001b[0mdata\u001b[0m\u001b[1;33m)\u001b[0m\u001b[1;33m\u001b[0m\u001b[1;33m\u001b[0m\u001b[0m\n\u001b[0m\u001b[0;32m   2351\u001b[0m         \u001b[0mself\u001b[0m\u001b[1;33m.\u001b[0m\u001b[0mstorage_options\u001b[0m \u001b[1;33m=\u001b[0m \u001b[0mstorage_options\u001b[0m\u001b[1;33m\u001b[0m\u001b[1;33m\u001b[0m\u001b[0m\n\u001b[0;32m   2352\u001b[0m \u001b[1;33m\u001b[0m\u001b[0m\n",
      "\u001b[1;32m~\\anaconda3\\lib\\site-packages\\pandas\\io\\stata.py\u001b[0m in \u001b[0;36m_prepare_pandas\u001b[1;34m(self, data)\u001b[0m\n\u001b[0;32m   2590\u001b[0m         \u001b[1;31m# Check columns for compatibility with stata, upcast if necessary\u001b[0m\u001b[1;33m\u001b[0m\u001b[1;33m\u001b[0m\u001b[1;33m\u001b[0m\u001b[0m\n\u001b[0;32m   2591\u001b[0m         \u001b[1;31m# Raise if outside the supported range\u001b[0m\u001b[1;33m\u001b[0m\u001b[1;33m\u001b[0m\u001b[1;33m\u001b[0m\u001b[0m\n\u001b[1;32m-> 2592\u001b[1;33m         \u001b[0mdata\u001b[0m \u001b[1;33m=\u001b[0m \u001b[0m_cast_to_stata_types\u001b[0m\u001b[1;33m(\u001b[0m\u001b[0mdata\u001b[0m\u001b[1;33m)\u001b[0m\u001b[1;33m\u001b[0m\u001b[1;33m\u001b[0m\u001b[0m\n\u001b[0m\u001b[0;32m   2593\u001b[0m \u001b[1;33m\u001b[0m\u001b[0m\n\u001b[0;32m   2594\u001b[0m         \u001b[1;31m# Replace NaNs with Stata missing values\u001b[0m\u001b[1;33m\u001b[0m\u001b[1;33m\u001b[0m\u001b[1;33m\u001b[0m\u001b[0m\n",
      "\u001b[1;32m~\\anaconda3\\lib\\site-packages\\pandas\\io\\stata.py\u001b[0m in \u001b[0;36m_cast_to_stata_types\u001b[1;34m(data)\u001b[0m\n\u001b[0;32m    596\u001b[0m     \u001b[1;32mfor\u001b[0m \u001b[0mcol\u001b[0m \u001b[1;32min\u001b[0m \u001b[0mdata\u001b[0m\u001b[1;33m:\u001b[0m\u001b[1;33m\u001b[0m\u001b[1;33m\u001b[0m\u001b[0m\n\u001b[0;32m    597\u001b[0m         \u001b[1;31m# Cast from unsupported types to supported types\u001b[0m\u001b[1;33m\u001b[0m\u001b[1;33m\u001b[0m\u001b[1;33m\u001b[0m\u001b[0m\n\u001b[1;32m--> 598\u001b[1;33m         \u001b[0mis_nullable_int\u001b[0m \u001b[1;33m=\u001b[0m \u001b[0misinstance\u001b[0m\u001b[1;33m(\u001b[0m\u001b[0mdata\u001b[0m\u001b[1;33m[\u001b[0m\u001b[0mcol\u001b[0m\u001b[1;33m]\u001b[0m\u001b[1;33m.\u001b[0m\u001b[0mdtype\u001b[0m\u001b[1;33m,\u001b[0m \u001b[1;33m(\u001b[0m\u001b[0mIntegerDtype\u001b[0m\u001b[1;33m,\u001b[0m \u001b[0mBooleanDtype\u001b[0m\u001b[1;33m)\u001b[0m\u001b[1;33m)\u001b[0m\u001b[1;33m\u001b[0m\u001b[1;33m\u001b[0m\u001b[0m\n\u001b[0m\u001b[0;32m    599\u001b[0m         \u001b[0morig\u001b[0m \u001b[1;33m=\u001b[0m \u001b[0mdata\u001b[0m\u001b[1;33m[\u001b[0m\u001b[0mcol\u001b[0m\u001b[1;33m]\u001b[0m\u001b[1;33m\u001b[0m\u001b[1;33m\u001b[0m\u001b[0m\n\u001b[0;32m    600\u001b[0m         \u001b[1;31m# We need to find orig_missing before altering data below\u001b[0m\u001b[1;33m\u001b[0m\u001b[1;33m\u001b[0m\u001b[1;33m\u001b[0m\u001b[0m\n",
      "\u001b[1;32m~\\anaconda3\\lib\\site-packages\\pandas\\core\\generic.py\u001b[0m in \u001b[0;36m__getattr__\u001b[1;34m(self, name)\u001b[0m\n\u001b[0;32m   5987\u001b[0m         ):\n\u001b[0;32m   5988\u001b[0m             \u001b[1;32mreturn\u001b[0m \u001b[0mself\u001b[0m\u001b[1;33m[\u001b[0m\u001b[0mname\u001b[0m\u001b[1;33m]\u001b[0m\u001b[1;33m\u001b[0m\u001b[1;33m\u001b[0m\u001b[0m\n\u001b[1;32m-> 5989\u001b[1;33m         \u001b[1;32mreturn\u001b[0m \u001b[0mobject\u001b[0m\u001b[1;33m.\u001b[0m\u001b[0m__getattribute__\u001b[0m\u001b[1;33m(\u001b[0m\u001b[0mself\u001b[0m\u001b[1;33m,\u001b[0m \u001b[0mname\u001b[0m\u001b[1;33m)\u001b[0m\u001b[1;33m\u001b[0m\u001b[1;33m\u001b[0m\u001b[0m\n\u001b[0m\u001b[0;32m   5990\u001b[0m \u001b[1;33m\u001b[0m\u001b[0m\n\u001b[0;32m   5991\u001b[0m     \u001b[1;32mdef\u001b[0m \u001b[0m__setattr__\u001b[0m\u001b[1;33m(\u001b[0m\u001b[0mself\u001b[0m\u001b[1;33m,\u001b[0m \u001b[0mname\u001b[0m\u001b[1;33m:\u001b[0m \u001b[0mstr\u001b[0m\u001b[1;33m,\u001b[0m \u001b[0mvalue\u001b[0m\u001b[1;33m)\u001b[0m \u001b[1;33m->\u001b[0m \u001b[1;32mNone\u001b[0m\u001b[1;33m:\u001b[0m\u001b[1;33m\u001b[0m\u001b[1;33m\u001b[0m\u001b[0m\n",
      "\u001b[1;31mAttributeError\u001b[0m: 'DataFrame' object has no attribute 'dtype'"
     ]
    }
   ],
   "source": [
    "merged_spain_MTUS_copy_2.to_stata(\"C:\\\\Users\\\\joyse\\\\Desktop\\\\UROP\\\\Fall 2023\\\\MTUS\\\\MTUS_Spain_STEP3.dta\")"
   ]
  },
  {
   "cell_type": "code",
   "execution_count": null,
   "metadata": {},
   "outputs": [],
   "source": []
  }
 ],
 "metadata": {
  "kernelspec": {
   "display_name": "Python 3",
   "language": "python",
   "name": "python3"
  },
  "language_info": {
   "codemirror_mode": {
    "name": "ipython",
    "version": 3
   },
   "file_extension": ".py",
   "mimetype": "text/x-python",
   "name": "python",
   "nbconvert_exporter": "python",
   "pygments_lexer": "ipython3",
   "version": "3.8.3"
  }
 },
 "nbformat": 4,
 "nbformat_minor": 4
}
